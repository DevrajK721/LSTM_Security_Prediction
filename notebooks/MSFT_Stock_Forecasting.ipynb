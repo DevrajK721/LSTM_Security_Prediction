{
 "cells": [
  {
   "cell_type": "markdown",
   "id": "518498c1",
   "metadata": {},
   "source": [
    "# Microsoft (MSFT) Stock Forecasting using LSTM "
   ]
  },
  {
   "cell_type": "markdown",
   "id": "eba8f21c",
   "metadata": {},
   "source": [
    "**Author: Devraj Katkoria** "
   ]
  },
  {
   "cell_type": "markdown",
   "id": "7a3a0b6c",
   "metadata": {},
   "source": [
    "LSTM stands for Long Short Term Memory and is a type of Recurrent Neural Network (RNN) that is particularly useful for time series data, e.g. stock prices, weather forecasts, etc. \n",
    "\n",
    "In the case of Stock forecasting, there will be a training cycle to determine parameters that weight the impact of $k$-lag from current point, $x_0$ to the next stock price prediction, $x_1$. \n",
    "\n",
    "Since this project is aimed to utilize Metal on MacOS X for faster processing using the GPU, **TensorFlow** will be used for this project.  "
   ]
  },
  {
   "cell_type": "markdown",
   "id": "4794ea76",
   "metadata": {},
   "source": [
    "## Gathering the Data \n",
    "We will be using Yahoo Finance to obtain our data we can either manually download the dataset from the [Yahoo Finance Webpage](https://finance.yahoo.com/quote/MSFT/history/) (PAID) or use the Yahoo Finance API to fetch stock price data. \n",
    "\n",
    "I will be downloading the *MAX* dataset size. "
   ]
  },
  {
   "cell_type": "code",
   "execution_count": 2,
   "id": "6c95b5af",
   "metadata": {},
   "outputs": [
    {
     "name": "stdout",
     "output_type": "stream",
     "text": [
      "yfinance version: 0.2.55\n"
     ]
    }
   ],
   "source": [
    "import yfinance as yf \n",
    "print(\"yfinance version:\", yf.__version__)"
   ]
  },
  {
   "cell_type": "code",
   "execution_count": null,
   "id": "cc9f9214",
   "metadata": {},
   "outputs": [],
   "source": [
    "# Function to fetch stock data for a ticker and save it to a CSV file\n",
    "def fetch_stock_data(ticker, start_date, end_date):\n",
    "    # Fetch the stock data\n",
    "    stock_data = yf.download(ticker, start=start_date, end=end_date)\n",
    "    \n",
    "    # Save the data to a CSV file\n",
    "    csv_file = f\"data/{ticker}_data.csv\"\n",
    "    stock_data.to_csv(csv_file)\n",
    "    \n",
    "    print(f\"Stock data for {ticker} saved to {csv_file}\")"
   ]
  }
 ],
 "metadata": {
  "kernelspec": {
   "display_name": "Trading_Env",
   "language": "python",
   "name": "python3"
  },
  "language_info": {
   "codemirror_mode": {
    "name": "ipython",
    "version": 3
   },
   "file_extension": ".py",
   "mimetype": "text/x-python",
   "name": "python",
   "nbconvert_exporter": "python",
   "pygments_lexer": "ipython3",
   "version": "3.12.2"
  }
 },
 "nbformat": 4,
 "nbformat_minor": 5
}
