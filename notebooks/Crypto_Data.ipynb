{
 "cells": [
  {
   "cell_type": "markdown",
   "id": "c508c2ec",
   "metadata": {},
   "source": [
    "# Crypto Data Extraction using Binance Client"
   ]
  },
  {
   "cell_type": "markdown",
   "id": "22889f8c",
   "metadata": {},
   "source": [
    "Please use this notebook to test that you've entered valid API and Secret Keys to your Binance Account to be able to download historical data, open/close trades, etc. "
   ]
  },
  {
   "cell_type": "code",
   "execution_count": 23,
   "id": "cd83e2ab",
   "metadata": {},
   "outputs": [],
   "source": [
    "from binance.client import Client as BC\n",
    "import sys\n",
    "import os\n",
    "sys.path.append(os.path.dirname('lstm_framework'))\n",
    "\n",
    "from data import *\n"
   ]
  },
  {
   "cell_type": "code",
   "execution_count": null,
   "id": "abe0e771",
   "metadata": {},
   "outputs": [
    {
     "ename": "FileNotFoundError",
     "evalue": "[Errno 2] No such file or directory: 'secrets/secrets.json'",
     "output_type": "error",
     "traceback": [
      "\u001b[31m---------------------------------------------------------------------------\u001b[39m",
      "\u001b[31mFileNotFoundError\u001b[39m                         Traceback (most recent call last)",
      "\u001b[36mCell\u001b[39m\u001b[36m \u001b[39m\u001b[32mIn[24]\u001b[39m\u001b[32m, line 5\u001b[39m\n\u001b[32m      2\u001b[39m sys.path.append(os.path.dirname(\u001b[33m'\u001b[39m\u001b[33mLSTM_Security_Prediction\u001b[39m\u001b[33m'\u001b[39m))\n\u001b[32m      4\u001b[39m x = DataProcessor(\u001b[33m'\u001b[39m\u001b[33mAAPL\u001b[39m\u001b[33m'\u001b[39m, \u001b[33m'\u001b[39m\u001b[33m2020-01-01\u001b[39m\u001b[33m'\u001b[39m, \u001b[33m'\u001b[39m\u001b[33m2023-10-01\u001b[39m\u001b[33m'\u001b[39m)\n\u001b[32m----> \u001b[39m\u001b[32m5\u001b[39m \u001b[43mx\u001b[49m\u001b[43m.\u001b[49m\u001b[43mfetch_crypto_data\u001b[49m\u001b[43m(\u001b[49m\u001b[43m)\u001b[49m\n\u001b[32m      7\u001b[39m x.df.head()\n",
      "\u001b[36mFile \u001b[39m\u001b[32m~/Documents/LSTM_Security_Prediction/lstm_framework/data.py:56\u001b[39m, in \u001b[36mDataProcessor.fetch_crypto_data\u001b[39m\u001b[34m(self)\u001b[39m\n\u001b[32m     55\u001b[39m \u001b[38;5;28;01mdef\u001b[39;00m\u001b[38;5;250m \u001b[39m\u001b[34mfetch_crypto_data\u001b[39m(\u001b[38;5;28mself\u001b[39m):\n\u001b[32m---> \u001b[39m\u001b[32m56\u001b[39m     \u001b[38;5;28;43mself\u001b[39;49m\u001b[43m.\u001b[49m\u001b[43minitialize_binance_client\u001b[49m\u001b[43m(\u001b[49m\u001b[43m)\u001b[49m \u001b[38;5;66;03m# Get the API keys and initialize the client\u001b[39;00m\n\u001b[32m     58\u001b[39m     symbol = \u001b[33m'\u001b[39m\u001b[33mBTCUSDC\u001b[39m\u001b[33m'\u001b[39m\n\u001b[32m     59\u001b[39m     interval = BC.KLINE_INTERVAL_1HOUR\n",
      "\u001b[36mFile \u001b[39m\u001b[32m~/Documents/LSTM_Security_Prediction/lstm_framework/data.py:49\u001b[39m, in \u001b[36mDataProcessor.initialize_binance_client\u001b[39m\u001b[34m(self)\u001b[39m\n\u001b[32m     48\u001b[39m \u001b[38;5;28;01mdef\u001b[39;00m\u001b[38;5;250m \u001b[39m\u001b[34minitialize_binance_client\u001b[39m(\u001b[38;5;28mself\u001b[39m):\n\u001b[32m---> \u001b[39m\u001b[32m49\u001b[39m     \u001b[38;5;28;01mwith\u001b[39;00m \u001b[38;5;28;43mopen\u001b[39;49m\u001b[43m(\u001b[49m\u001b[33;43m'\u001b[39;49m\u001b[33;43msecrets/secrets.json\u001b[39;49m\u001b[33;43m'\u001b[39;49m\u001b[43m,\u001b[49m\u001b[43m \u001b[49m\u001b[33;43m'\u001b[39;49m\u001b[33;43mr\u001b[39;49m\u001b[33;43m'\u001b[39;49m\u001b[43m)\u001b[49m \u001b[38;5;28;01mas\u001b[39;00m file:\n\u001b[32m     50\u001b[39m         secrets = json.load(file)\n\u001b[32m     51\u001b[39m         \u001b[38;5;28mself\u001b[39m.binance_api_key = secrets[\u001b[33m'\u001b[39m\u001b[33mBINANCE_API_KEY\u001b[39m\u001b[33m'\u001b[39m]\n",
      "\u001b[31mFileNotFoundError\u001b[39m: [Errno 2] No such file or directory: 'secrets/secrets.json'"
     ]
    }
   ],
   "source": [
    "# This is a simple example of how to use the LSTM framework\n",
    "os.chdir('../')\n",
    "\n",
    "x = DataProcessor('AAPL', '2020-01-01', '2023-10-01')\n",
    "x.fetch_crypto_data()\n",
    "\n",
    "x.df.head()"
   ]
  },
  {
   "cell_type": "code",
   "execution_count": null,
   "id": "f47c3bcb",
   "metadata": {},
   "outputs": [],
   "source": []
  }
 ],
 "metadata": {
  "kernelspec": {
   "display_name": "Trading_Env",
   "language": "python",
   "name": "python3"
  },
  "language_info": {
   "codemirror_mode": {
    "name": "ipython",
    "version": 3
   },
   "file_extension": ".py",
   "mimetype": "text/x-python",
   "name": "python",
   "nbconvert_exporter": "python",
   "pygments_lexer": "ipython3",
   "version": "3.12.9"
  }
 },
 "nbformat": 4,
 "nbformat_minor": 5
}
